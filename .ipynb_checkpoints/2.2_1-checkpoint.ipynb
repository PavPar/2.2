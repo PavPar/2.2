{
 "cells": [
  {
   "cell_type": "markdown",
   "metadata": {},
   "source": [
    "# Surprise homework"
   ]
  },
  {
   "cell_type": "code",
   "execution_count": 1,
   "metadata": {},
   "outputs": [],
   "source": [
    "import io \n",
    "import pandas as pd\n",
    "from collections import defaultdict\n",
    "from surprise import Dataset\n",
    "from surprise import NormalPredictor\n",
    "from surprise import SVD\n",
    "from surprise import KNNBasic\n",
    "from surprise import get_dataset_dir\n",
    "from surprise.model_selection import cross_validate\n",
    "from surprise.model_selection import train_test_split\n"
   ]
  },
  {
   "cell_type": "code",
   "execution_count": 2,
   "metadata": {},
   "outputs": [],
   "source": [
    "data = Dataset.load_builtin('ml-100k')\n",
    "K = 30\n",
    "trainset, testset = train_test_split(data, test_size=.25)"
   ]
  },
  {
   "cell_type": "code",
   "execution_count": 3,
   "metadata": {},
   "outputs": [],
   "source": [
    "algorithms = {\n",
    "    \"NP\": NormalPredictor(),\n",
    "    \"KNN_cos\": KNNBasic(k = K, sim_options = { 'name': 'cosine' }),\n",
    "    \"KNN_MSD\": KNNBasic(k = K),\n",
    "    \"KNN_Pearson\": KNNBasic(k = K, sim_options = { 'name': 'pearson' }),\n",
    "    \"SVD\" : SVD()\n",
    "}\n",
    "RSMA = {}"
   ]
  },
  {
   "cell_type": "code",
   "execution_count": 4,
   "metadata": {},
   "outputs": [
    {
     "name": "stdout",
     "output_type": "stream",
     "text": [
      "Evaluating RMSE of algorithm NormalPredictor on 5 split(s).\n",
      "\n",
      "                  Fold 1  Fold 2  Fold 3  Fold 4  Fold 5  Mean    Std     \n",
      "RMSE (testset)    1.5123  1.5222  1.5267  1.5170  1.5148  1.5186  0.0052  \n",
      "Fit time          0.10    0.12    0.12    0.12    0.14    0.12    0.01    \n",
      "Test time         0.12    0.13    0.19    0.11    0.14    0.14    0.03    \n",
      "Computing the cosine similarity matrix...\n",
      "Done computing similarity matrix.\n",
      "Computing the cosine similarity matrix...\n",
      "Done computing similarity matrix.\n",
      "Computing the cosine similarity matrix...\n",
      "Done computing similarity matrix.\n",
      "Computing the cosine similarity matrix...\n",
      "Done computing similarity matrix.\n",
      "Computing the cosine similarity matrix...\n",
      "Done computing similarity matrix.\n",
      "Evaluating RMSE of algorithm KNNBasic on 5 split(s).\n",
      "\n",
      "                  Fold 1  Fold 2  Fold 3  Fold 4  Fold 5  Mean    Std     \n",
      "RMSE (testset)    1.0146  1.0196  1.0087  1.0260  1.0262  1.0190  0.0068  \n",
      "Fit time          0.91    0.87    0.86    0.95    1.03    0.93    0.06    \n",
      "Test time         2.78    2.62    2.78    3.05    2.71    2.79    0.14    \n",
      "Computing the msd similarity matrix...\n",
      "Done computing similarity matrix.\n",
      "Computing the msd similarity matrix...\n",
      "Done computing similarity matrix.\n",
      "Computing the msd similarity matrix...\n",
      "Done computing similarity matrix.\n",
      "Computing the msd similarity matrix...\n",
      "Done computing similarity matrix.\n",
      "Computing the msd similarity matrix...\n",
      "Done computing similarity matrix.\n",
      "Evaluating RMSE of algorithm KNNBasic on 5 split(s).\n",
      "\n",
      "                  Fold 1  Fold 2  Fold 3  Fold 4  Fold 5  Mean    Std     \n",
      "RMSE (testset)    0.9766  0.9832  0.9778  0.9728  0.9699  0.9760  0.0045  \n",
      "Fit time          0.34    0.36    0.36    0.36    0.37    0.36    0.01    \n",
      "Test time         2.79    2.66    2.61    2.65    2.58    2.66    0.07    \n",
      "Computing the pearson similarity matrix...\n",
      "Done computing similarity matrix.\n",
      "Computing the pearson similarity matrix...\n",
      "Done computing similarity matrix.\n",
      "Computing the pearson similarity matrix...\n",
      "Done computing similarity matrix.\n",
      "Computing the pearson similarity matrix...\n",
      "Done computing similarity matrix.\n",
      "Computing the pearson similarity matrix...\n",
      "Done computing similarity matrix.\n",
      "Evaluating RMSE of algorithm KNNBasic on 5 split(s).\n",
      "\n",
      "                  Fold 1  Fold 2  Fold 3  Fold 4  Fold 5  Mean    Std     \n",
      "RMSE (testset)    1.0192  1.0080  1.0074  1.0158  1.0128  1.0126  0.0045  \n",
      "Fit time          1.22    1.24    1.21    1.23    1.25    1.23    0.01    \n",
      "Test time         2.60    2.65    2.59    2.65    2.60    2.62    0.03    \n",
      "Evaluating RMSE of algorithm SVD on 5 split(s).\n",
      "\n",
      "                  Fold 1  Fold 2  Fold 3  Fold 4  Fold 5  Mean    Std     \n",
      "RMSE (testset)    0.9333  0.9356  0.9410  0.9374  0.9336  0.9362  0.0028  \n",
      "Fit time          4.17    4.16    4.29    4.18    4.16    4.19    0.05    \n",
      "Test time         0.22    0.22    0.14    0.21    0.14    0.18    0.04    \n"
     ]
    }
   ],
   "source": [
    "for [name, algo] in algorithms.items():\n",
    "    crv = cross_validate(algo, data, measures=['RMSE'], verbose=True)\n",
    "    RSMA[name] = round(crv['test_rmse'].mean(), 3)\n"
   ]
  },
  {
   "cell_type": "code",
   "execution_count": 5,
   "metadata": {},
   "outputs": [
    {
     "name": "stdout",
     "output_type": "stream",
     "text": [
      "{'NP': 1.519, 'KNN_cos': 1.019, 'KNN_MSD': 0.976, 'KNN_Pearson': 1.013, 'SVD': 0.936}\n",
      "SVD\n"
     ]
    }
   ],
   "source": [
    "# найдем лучший алгоритм\n",
    "print(RSMA)\n",
    "bestAlgoName = min(RSMA.items(), key=lambda x: x[1])[0]\n",
    "print(bestAlgoName)\n",
    "bestAlgo = algorithms[bestAlgoName]\n",
    "# и его предсказание\n",
    "bestAlgo.fit(trainset)\n",
    "predictions = bestAlgo.test(testset)"
   ]
  },
  {
   "cell_type": "code",
   "execution_count": 6,
   "metadata": {},
   "outputs": [
    {
     "name": "stdout",
     "output_type": "stream",
     "text": [
      "0.7318133616118769\n",
      "0.36174097343940215\n"
     ]
    }
   ],
   "source": [
    "# посчитаем метрики precision@k and recall@k для k=5 и порога отсечения 3.52\n",
    "# как хорошо, что умные люди уже все сделали за меня: https://github.com/NicolasHug/Surprise/blob/master/examples/precision_recall_at_k.py\n",
    "def precision_recall_at_k(predictions, k=10, threshold=3.5):\n",
    "    \"\"\"Return precision and recall at k metrics for each user\"\"\"\n",
    "\n",
    "    # First map the predictions to each user.\n",
    "    user_est_true = defaultdict(list)\n",
    "    for uid, _, true_r, est, _ in predictions:\n",
    "        user_est_true[uid].append((est, true_r))\n",
    "\n",
    "    precisions = dict()\n",
    "    recalls = dict()\n",
    "    for uid, user_ratings in user_est_true.items():\n",
    "\n",
    "        # Sort user ratings by estimated value\n",
    "        user_ratings.sort(key=lambda x: x[0], reverse=True)\n",
    "\n",
    "        # Number of relevant items\n",
    "        n_rel = sum((true_r >= threshold) for (_, true_r) in user_ratings)\n",
    "\n",
    "        # Number of recommended items in top k\n",
    "        n_rec_k = sum((est >= threshold) for (est, _) in user_ratings[:k])\n",
    "\n",
    "        # Number of relevant and recommended items in top k\n",
    "        n_rel_and_rec_k = sum(((true_r >= threshold) and (est >= threshold))\n",
    "                              for (est, true_r) in user_ratings[:k])\n",
    "\n",
    "        # Precision@K: Proportion of recommended items that are relevant\n",
    "        # When n_rec_k is 0, Precision is undefined. We here set it to 0.\n",
    "\n",
    "        precisions[uid] = n_rel_and_rec_k / n_rec_k if n_rec_k != 0 else 0\n",
    "\n",
    "        # Recall@K: Proportion of relevant items that are recommended\n",
    "        # When n_rel is 0, Recall is undefined. We here set it to 0.\n",
    "\n",
    "        recalls[uid] = n_rel_and_rec_k / n_rel if n_rel != 0 else 0\n",
    "\n",
    "    return precisions, recalls\n",
    "\n",
    "precisions, recalls = precision_recall_at_k(predictions, k=5, threshold=3.52)\n",
    "\n",
    "# усредняем по всем пользователям\n",
    "precision_at_k = sum(prec for prec in precisions.values()) / len(precisions)\n",
    "recall_at_k = sum(rec for rec in recalls.values()) / len(recalls)\n",
    "print(precision_at_k)\n",
    "print(recall_at_k)"
   ]
  },
  {
   "cell_type": "code",
   "execution_count": 7,
   "metadata": {},
   "outputs": [
    {
     "data": {
      "text/plain": [
       "[Prediction(uid='26', iid='515', r_ui=4.0, est=4.022692257819034, details={'was_impossible': False}),\n",
       " Prediction(uid='26', iid='127', r_ui=5.0, est=3.958981371772294, details={'was_impossible': False}),\n",
       " Prediction(uid='26', iid='100', r_ui=5.0, est=3.9038191743884894, details={'was_impossible': False}),\n",
       " Prediction(uid='26', iid='508', r_ui=3.0, est=3.501378179039919, details={'was_impossible': False}),\n",
       " Prediction(uid='26', iid='315', r_ui=3.0, est=3.4914936655100375, details={'was_impossible': False})]"
      ]
     },
     "execution_count": 7,
     "metadata": {},
     "output_type": "execute_result"
    }
   ],
   "source": [
    "USER_INDEX = '26'\n",
    "N = 5\n",
    "userPredictions = list(filter(lambda x: x.uid == USER_INDEX, predictions))\n",
    "top = sorted(userPredictions, key=lambda x: x.est, reverse=True)[0:N]\n",
    "top"
   ]
  },
  {
   "cell_type": "code",
   "execution_count": 8,
   "metadata": {},
   "outputs": [
    {
     "name": "stdout",
     "output_type": "stream",
     "text": [
      "['515', '127', '100', '508', '315']\n",
      "{'515': ('Local Hero (1983)', '01-Jan-1983'), '127': ('Supercop (1992)', '26-Jul-1996'), '100': ('Heavy Metal (1981)', '08-Mar-1981'), '508': ('My Left Foot (1989)', '01-Jan-1989'), '315': ('As Good As It Gets (1997)', '23-Dec-1997')}\n"
     ]
    }
   ],
   "source": [
    "# достаем инфу о фильмах из\n",
    "def getInfoForList(l):\n",
    "    print(l)\n",
    "    data_path = get_dataset_dir() + '/ml-100k/ml-100k/u.item'\n",
    "    info = {}\n",
    "    data = pd.read_csv(data_path, sep='|',encoding='ISO-8859-1', header = None) \n",
    "    for id in l:\n",
    "        row = data.iloc[int(id)]\n",
    "        info[id] = (row[1], row[2])\n",
    "\n",
    "    return info\n",
    "info = getInfoForList(list(map(lambda x: x.iid, top)))\n",
    "print(info)"
   ]
  },
  {
   "cell_type": "code",
   "execution_count": 9,
   "metadata": {},
   "outputs": [
    {
     "name": "stdout",
     "output_type": "stream",
     "text": [
      "User 26\n",
      "515, ('Local Hero (1983)', '01-Jan-1983'), 4.023\n",
      "127, ('Supercop (1992)', '26-Jul-1996'), 3.959\n",
      "100, ('Heavy Metal (1981)', '08-Mar-1981'), 3.904\n",
      "508, ('My Left Foot (1989)', '01-Jan-1989'), 3.501\n",
      "315, ('As Good As It Gets (1997)', '23-Dec-1997'), 3.491\n"
     ]
    }
   ],
   "source": [
    "# вывод результата\n",
    "print('User {}'.format(USER_INDEX))\n",
    "for pred in top:\n",
    "    print('{}, {}, {}'.format(pred.iid, info[pred.iid], round(pred.est, 3)))"
   ]
  },
  {
   "cell_type": "code",
   "execution_count": null,
   "metadata": {},
   "outputs": [],
   "source": []
  }
 ],
 "metadata": {
  "kernelspec": {
   "display_name": "Python 3",
   "language": "python",
   "name": "python3"
  },
  "language_info": {
   "codemirror_mode": {
    "name": "ipython",
    "version": 3
   },
   "file_extension": ".py",
   "mimetype": "text/x-python",
   "name": "python",
   "nbconvert_exporter": "python",
   "pygments_lexer": "ipython3",
   "version": "3.6.9"
  }
 },
 "nbformat": 4,
 "nbformat_minor": 2
}
